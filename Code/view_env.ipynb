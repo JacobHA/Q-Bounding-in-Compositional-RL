{
 "cells": [
  {
   "cell_type": "code",
   "execution_count": 1,
   "metadata": {},
   "outputs": [],
   "source": [
    "from envs import MAPS\n",
    "from visualization import plot_dist\n",
    "import numpy as np"
   ]
  },
  {
   "cell_type": "code",
   "execution_count": 4,
   "metadata": {},
   "outputs": [
    {
     "data": {
      "text/plain": [
       "<Figure size 640x480 with 0 Axes>"
      ]
     },
     "metadata": {},
     "output_type": "display_data"
    }
   ],
   "source": [
    "descD = MAPS['6x6D']\n",
    "descL = MAPS['6x6L']\n",
    "descC = MAPS['6x6L_OR_D']\n",
    "for name in ['6x6L', '6x6D', '6x6L_OR_D']:\n",
    "    desc = np.array(MAPS[name], dtype='c')\n",
    "    disp_name = name.replace('_', ' ')\n",
    "    plot_dist([desc], titles=[f'Task: \\\"{disp_name}\\\"'], symbol_size=600, dpi=800, filename=f'{name}.pdf')"
   ]
  },
  {
   "cell_type": "code",
   "execution_count": null,
   "metadata": {},
   "outputs": [],
   "source": []
  },
  {
   "cell_type": "markdown",
   "source": [],
   "metadata": {
    "collapsed": false
   }
  }
 ],
 "metadata": {
  "kernelspec": {
   "display_name": "oblenv",
   "language": "python",
   "name": "python3"
  },
  "language_info": {
   "codemirror_mode": {
    "name": "ipython",
    "version": 3
   },
   "file_extension": ".py",
   "mimetype": "text/x-python",
   "name": "python",
   "nbconvert_exporter": "python",
   "pygments_lexer": "ipython3",
   "version": "3.7.15"
  },
  "orig_nbformat": 4,
  "vscode": {
   "interpreter": {
    "hash": "7a2b579cb8a68b81122855c8d1d685262074e9713a84287cf03c3c97ebe55b6e"
   }
  }
 },
 "nbformat": 4,
 "nbformat_minor": 2
}
